{
 "cells": [
  {
   "cell_type": "markdown",
   "metadata": {},
   "source": [
    "### CLUSTERING TORONTO NEIGHBORHOODS ON THE BASIS OF SIMILAR VENUES\n"
   ]
  },
  {
   "cell_type": "code",
   "execution_count": 3,
   "metadata": {},
   "outputs": [
    {
     "name": "stdout",
     "output_type": "stream",
     "text": [
      "libararies imported\n"
     ]
    }
   ],
   "source": [
    "from bs4 import BeautifulSoup\n",
    "import requests\n",
    "import numpy as np\n",
    "import pandas as pd\n",
    "from geopy.geocoders import Nominatim\n",
    "import folium\n",
    "import json\n",
    "from pandas.io.json import json_normalize # tranform JSON file into a pandas dataframe\n",
    "from sklearn.cluster import KMeans\n",
    "import matplotlib.cm as cm\n",
    "import matplotlib.colors as colors\n",
    "print('libararies imported')"
   ]
  },
  {
   "cell_type": "markdown",
   "metadata": {},
   "source": [
    "### 1. getting data and and tranforming it to dataframe "
   ]
  },
  {
   "cell_type": "markdown",
   "metadata": {},
   "source": [
    "#### using https://en.wikipedia.org/wiki/List_of_postal_codes_of_Canada:_M to get list of neighborhoods in toronto\n"
   ]
  },
  {
   "cell_type": "code",
   "execution_count": 4,
   "metadata": {},
   "outputs": [
    {
     "name": "stdout",
     "output_type": "stream",
     "text": [
      "https://en.wikipedia.org/wiki/List_of_postal_codes_of_Canada:_M\n"
     ]
    }
   ],
   "source": [
    "url=\"https://en.wikipedia.org/wiki/List_of_postal_codes_of_Canada:_M\"\n",
    "html_text = requests.get(url).text\n",
    "print(url)"
   ]
  },
  {
   "cell_type": "code",
   "execution_count": 5,
   "metadata": {},
   "outputs": [
    {
     "data": {
      "text/plain": [
       "[['M3A', 'North York', 'Parkwoods'],\n",
       " ['M4A', 'North York', 'Victoria Village'],\n",
       " ['M5A', 'Downtown Toronto', 'Regent Park, Harbourfront'],\n",
       " ['M6A', 'North York', 'Lawrence Manor, Lawrence Heights'],\n",
       " ['M7A', 'Downtown Toronto', \"Queen's Park, Ontario Provincial Government\"],\n",
       " ['M9A', 'Etobicoke', 'Islington Avenue, Humber Valley Village'],\n",
       " ['M1B', 'Scarborough', 'Malvern, Rouge'],\n",
       " ['M3B', 'North York', 'Don Mills'],\n",
       " ['M4B', 'East York', 'Parkview Hill, Woodbine Gardens'],\n",
       " ['M5B', 'Downtown Toronto', 'Garden District, Ryerson'],\n",
       " ['M6B', 'North York', 'Glencairn'],\n",
       " ['M9B',\n",
       "  'Etobicoke',\n",
       "  'West Deane Park, Princess Gardens, Martin Grove, Islington, Cloverdale'],\n",
       " ['M1C', 'Scarborough', 'Rouge Hill, Port Union, Highland Creek'],\n",
       " ['M3C', 'North York', 'Don Mills'],\n",
       " ['M4C', 'East York', 'Woodbine Heights'],\n",
       " ['M5C', 'Downtown Toronto', 'St. James Town'],\n",
       " ['M6C', 'York', 'Humewood-Cedarvale'],\n",
       " ['M9C',\n",
       "  'Etobicoke',\n",
       "  'Eringate, Bloordale Gardens, Old Burnhamthorpe, Markland Wood'],\n",
       " ['M1E', 'Scarborough', 'Guildwood, Morningside, West Hill'],\n",
       " ['M4E', 'East Toronto', 'The Beaches'],\n",
       " ['M5E', 'Downtown Toronto', 'Berczy Park'],\n",
       " ['M6E', 'York', 'Caledonia-Fairbanks'],\n",
       " ['M1G', 'Scarborough', 'Woburn'],\n",
       " ['M4G', 'East York', 'Leaside'],\n",
       " ['M5G', 'Downtown Toronto', 'Central Bay Street'],\n",
       " ['M6G', 'Downtown Toronto', 'Christie'],\n",
       " ['M1H', 'Scarborough', 'Cedarbrae'],\n",
       " ['M2H', 'North York', 'Hillcrest Village'],\n",
       " ['M3H', 'North York', 'Bathurst Manor, Wilson Heights, Downsview North'],\n",
       " ['M4H', 'East York', 'Thorncliffe Park'],\n",
       " ['M5H', 'Downtown Toronto', 'Richmond, Adelaide, King'],\n",
       " ['M6H', 'West Toronto', 'Dufferin, Dovercourt Village'],\n",
       " ['M1J', 'Scarborough', 'Scarborough Village'],\n",
       " ['M2J', 'North York', 'Fairview, Henry Farm, Oriole'],\n",
       " ['M3J', 'North York', 'Northwood Park, York University'],\n",
       " ['M4J', 'East York', 'East Toronto, Broadview North (Old East York)'],\n",
       " ['M5J',\n",
       "  'Downtown Toronto',\n",
       "  'Harbourfront East, Union Station, Toronto Islands'],\n",
       " ['M6J', 'West Toronto', 'Little Portugal, Trinity'],\n",
       " ['M1K', 'Scarborough', 'Kennedy Park, Ionview, East Birchmount Park'],\n",
       " ['M2K', 'North York', 'Bayview Village'],\n",
       " ['M3K', 'North York', 'Downsview'],\n",
       " ['M4K', 'East Toronto', 'The Danforth West, Riverdale'],\n",
       " ['M5K', 'Downtown Toronto', 'Toronto Dominion Centre, Design Exchange'],\n",
       " ['M6K', 'West Toronto', 'Brockton, Parkdale Village, Exhibition Place'],\n",
       " ['M1L', 'Scarborough', 'Golden Mile, Clairlea, Oakridge'],\n",
       " ['M2L', 'North York', 'York Mills, Silver Hills'],\n",
       " ['M3L', 'North York', 'Downsview'],\n",
       " ['M4L', 'East Toronto', 'India Bazaar, The Beaches West'],\n",
       " ['M5L', 'Downtown Toronto', 'Commerce Court, Victoria Hotel'],\n",
       " ['M6L', 'North York', 'North Park, Maple Leaf Park, Upwood Park'],\n",
       " ['M9L', 'North York', 'Humber Summit'],\n",
       " ['M1M', 'Scarborough', 'Cliffside, Cliffcrest, Scarborough Village West'],\n",
       " ['M2M', 'North York', 'Willowdale, Newtonbrook'],\n",
       " ['M3M', 'North York', 'Downsview'],\n",
       " ['M4M', 'East Toronto', 'Studio District'],\n",
       " ['M5M', 'North York', 'Bedford Park, Lawrence Manor East'],\n",
       " ['M6M', 'York', 'Del Ray, Mount Dennis, Keelsdale and Silverthorn'],\n",
       " ['M9M', 'North York', 'Humberlea, Emery'],\n",
       " ['M1N', 'Scarborough', 'Birch Cliff, Cliffside West'],\n",
       " ['M2N', 'North York', 'Willowdale, Willowdale East'],\n",
       " ['M3N', 'North York', 'Downsview'],\n",
       " ['M4N', 'Central Toronto', 'Lawrence Park'],\n",
       " ['M5N', 'Central Toronto', 'Roselawn'],\n",
       " ['M6N', 'York', 'Runnymede, The Junction North'],\n",
       " ['M9N', 'York', 'Weston'],\n",
       " ['M1P',\n",
       "  'Scarborough',\n",
       "  'Dorset Park, Wexford Heights, Scarborough Town Centre'],\n",
       " ['M2P', 'North York', 'York Mills West'],\n",
       " ['M4P', 'Central Toronto', 'Davisville North'],\n",
       " ['M5P', 'Central Toronto', 'Forest Hill North & West, Forest Hill Road Park'],\n",
       " ['M6P', 'West Toronto', 'High Park, The Junction South'],\n",
       " ['M9P', 'Etobicoke', 'Westmount'],\n",
       " ['M1R', 'Scarborough', 'Wexford, Maryvale'],\n",
       " ['M2R', 'North York', 'Willowdale, Willowdale West'],\n",
       " ['M4R', 'Central Toronto', 'North Toronto West,  Lawrence Park'],\n",
       " ['M5R', 'Central Toronto', 'The Annex, North Midtown, Yorkville'],\n",
       " ['M6R', 'West Toronto', 'Parkdale, Roncesvalles'],\n",
       " ['M7R', 'Mississauga', 'Canada Post Gateway Processing Centre'],\n",
       " ['M9R',\n",
       "  'Etobicoke',\n",
       "  'Kingsview Village, St. Phillips, Martin Grove Gardens, Richview Gardens'],\n",
       " ['M1S', 'Scarborough', 'Agincourt'],\n",
       " ['M4S', 'Central Toronto', 'Davisville'],\n",
       " ['M5S', 'Downtown Toronto', 'University of Toronto, Harbord'],\n",
       " ['M6S', 'West Toronto', 'Runnymede, Swansea'],\n",
       " ['M1T', 'Scarborough', \"Clarks Corners, Tam O'Shanter, Sullivan\"],\n",
       " ['M4T', 'Central Toronto', 'Moore Park, Summerhill East'],\n",
       " ['M5T', 'Downtown Toronto', 'Kensington Market, Chinatown, Grange Park'],\n",
       " ['M1V',\n",
       "  'Scarborough',\n",
       "  \"Milliken, Agincourt North, Steeles East, L'Amoreaux East\"],\n",
       " ['M4V',\n",
       "  'Central Toronto',\n",
       "  'Summerhill West, Rathnelly, South Hill, Forest Hill SE, Deer Park'],\n",
       " ['M5V',\n",
       "  'Downtown Toronto',\n",
       "  'CN Tower, King and Spadina, Railway Lands, Harbourfront West, Bathurst Quay, South Niagara, Island airport'],\n",
       " ['M8V', 'Etobicoke', 'New Toronto, Mimico South, Humber Bay Shores'],\n",
       " ['M9V',\n",
       "  'Etobicoke',\n",
       "  'South Steeles, Silverstone, Humbergate, Jamestown, Mount Olive, Beaumond Heights, Thistletown, Albion Gardens'],\n",
       " ['M1W', 'Scarborough', \"Steeles West, L'Amoreaux West\"],\n",
       " ['M4W', 'Downtown Toronto', 'Rosedale'],\n",
       " ['M5W', 'Downtown Toronto', 'Stn A PO Boxes'],\n",
       " ['M8W', 'Etobicoke', 'Alderwood, Long Branch'],\n",
       " ['M9W', 'Etobicoke', 'Northwest, West Humber - Clairville'],\n",
       " ['M1X', 'Scarborough', 'Upper Rouge'],\n",
       " ['M4X', 'Downtown Toronto', 'St. James Town, Cabbagetown'],\n",
       " ['M5X', 'Downtown Toronto', 'First Canadian Place, Underground city'],\n",
       " ['M8X', 'Etobicoke', 'The Kingsway, Montgomery Road, Old Mill North'],\n",
       " ['M4Y', 'Downtown Toronto', 'Church and Wellesley'],\n",
       " ['M7Y',\n",
       "  'East Toronto',\n",
       "  'Business reply mail Processing Centre, South Central Letter Processing Plant Toronto'],\n",
       " ['M8Y',\n",
       "  'Etobicoke',\n",
       "  \"Old Mill South, King's Mill Park, Sunnylea, Humber Bay, Mimico NE, The Queensway East, Royal York South East, Kingsway Park South East\"],\n",
       " ['M8Z',\n",
       "  'Etobicoke',\n",
       "  'Mimico NW, The Queensway West, South of Bloor, Kingsway Park South West, Royal York South West']]"
      ]
     },
     "execution_count": 5,
     "metadata": {},
     "output_type": "execute_result"
    }
   ],
   "source": [
    "soup = BeautifulSoup(html_text, 'lxml')\n",
    "table = soup.find('table')\n",
    "trs = table.find_all('tr')\n",
    "\n",
    "rows=[]\n",
    "for tr in trs:\n",
    "    row=tr.find_all('td')\n",
    "    if row:\n",
    "        rows.append(row)\n",
    "\n",
    "lst=[]\n",
    "for row in rows:\n",
    "    postal_code=row[0].text.rstrip()\n",
    "    borough=row[1].text.rstrip()\n",
    "    neighborhood = row[2].text.rstrip()\n",
    "    \n",
    "    if borough!='Not assigned':\n",
    "        if neighborhood=='Not assigned':\n",
    "            neighborhood = borough\n",
    "        lst.append([postal_code, borough, neighborhood])\n",
    "lst"
   ]
  },
  {
   "cell_type": "code",
   "execution_count": 8,
   "metadata": {},
   "outputs": [
    {
     "data": {
      "text/html": [
       "<div>\n",
       "<style scoped>\n",
       "    .dataframe tbody tr th:only-of-type {\n",
       "        vertical-align: middle;\n",
       "    }\n",
       "\n",
       "    .dataframe tbody tr th {\n",
       "        vertical-align: top;\n",
       "    }\n",
       "\n",
       "    .dataframe thead th {\n",
       "        text-align: right;\n",
       "    }\n",
       "</style>\n",
       "<table border=\"1\" class=\"dataframe\">\n",
       "  <thead>\n",
       "    <tr style=\"text-align: right;\">\n",
       "      <th></th>\n",
       "      <th>PostalCode</th>\n",
       "      <th>Borough</th>\n",
       "      <th>Neighborhood</th>\n",
       "    </tr>\n",
       "  </thead>\n",
       "  <tbody>\n",
       "    <tr>\n",
       "      <td>0</td>\n",
       "      <td>M3A</td>\n",
       "      <td>North York</td>\n",
       "      <td>Parkwoods</td>\n",
       "    </tr>\n",
       "    <tr>\n",
       "      <td>1</td>\n",
       "      <td>M4A</td>\n",
       "      <td>North York</td>\n",
       "      <td>Victoria Village</td>\n",
       "    </tr>\n",
       "    <tr>\n",
       "      <td>2</td>\n",
       "      <td>M5A</td>\n",
       "      <td>Downtown Toronto</td>\n",
       "      <td>Regent Park, Harbourfront</td>\n",
       "    </tr>\n",
       "    <tr>\n",
       "      <td>3</td>\n",
       "      <td>M6A</td>\n",
       "      <td>North York</td>\n",
       "      <td>Lawrence Manor, Lawrence Heights</td>\n",
       "    </tr>\n",
       "    <tr>\n",
       "      <td>4</td>\n",
       "      <td>M7A</td>\n",
       "      <td>Downtown Toronto</td>\n",
       "      <td>Queen's Park, Ontario Provincial Government</td>\n",
       "    </tr>\n",
       "    <tr>\n",
       "      <td>...</td>\n",
       "      <td>...</td>\n",
       "      <td>...</td>\n",
       "      <td>...</td>\n",
       "    </tr>\n",
       "    <tr>\n",
       "      <td>98</td>\n",
       "      <td>M8X</td>\n",
       "      <td>Etobicoke</td>\n",
       "      <td>The Kingsway, Montgomery Road, Old Mill North</td>\n",
       "    </tr>\n",
       "    <tr>\n",
       "      <td>99</td>\n",
       "      <td>M4Y</td>\n",
       "      <td>Downtown Toronto</td>\n",
       "      <td>Church and Wellesley</td>\n",
       "    </tr>\n",
       "    <tr>\n",
       "      <td>100</td>\n",
       "      <td>M7Y</td>\n",
       "      <td>East Toronto</td>\n",
       "      <td>Business reply mail Processing Centre, South C...</td>\n",
       "    </tr>\n",
       "    <tr>\n",
       "      <td>101</td>\n",
       "      <td>M8Y</td>\n",
       "      <td>Etobicoke</td>\n",
       "      <td>Old Mill South, King's Mill Park, Sunnylea, Hu...</td>\n",
       "    </tr>\n",
       "    <tr>\n",
       "      <td>102</td>\n",
       "      <td>M8Z</td>\n",
       "      <td>Etobicoke</td>\n",
       "      <td>Mimico NW, The Queensway West, South of Bloor,...</td>\n",
       "    </tr>\n",
       "  </tbody>\n",
       "</table>\n",
       "<p>103 rows × 3 columns</p>\n",
       "</div>"
      ],
      "text/plain": [
       "    PostalCode           Borough  \\\n",
       "0          M3A        North York   \n",
       "1          M4A        North York   \n",
       "2          M5A  Downtown Toronto   \n",
       "3          M6A        North York   \n",
       "4          M7A  Downtown Toronto   \n",
       "..         ...               ...   \n",
       "98         M8X         Etobicoke   \n",
       "99         M4Y  Downtown Toronto   \n",
       "100        M7Y      East Toronto   \n",
       "101        M8Y         Etobicoke   \n",
       "102        M8Z         Etobicoke   \n",
       "\n",
       "                                          Neighborhood  \n",
       "0                                            Parkwoods  \n",
       "1                                     Victoria Village  \n",
       "2                            Regent Park, Harbourfront  \n",
       "3                     Lawrence Manor, Lawrence Heights  \n",
       "4          Queen's Park, Ontario Provincial Government  \n",
       "..                                                 ...  \n",
       "98       The Kingsway, Montgomery Road, Old Mill North  \n",
       "99                                Church and Wellesley  \n",
       "100  Business reply mail Processing Centre, South C...  \n",
       "101  Old Mill South, King's Mill Park, Sunnylea, Hu...  \n",
       "102  Mimico NW, The Queensway West, South of Bloor,...  \n",
       "\n",
       "[103 rows x 3 columns]"
      ]
     },
     "execution_count": 8,
     "metadata": {},
     "output_type": "execute_result"
    }
   ],
   "source": [
    "df = pd.DataFrame(lst ,columns=['PostalCode','Borough','Neighborhood'])\n",
    "df"
   ]
  },
  {
   "cell_type": "code",
   "execution_count": 9,
   "metadata": {},
   "outputs": [
    {
     "data": {
      "text/plain": [
       "(103, 3)"
      ]
     },
     "execution_count": 9,
     "metadata": {},
     "output_type": "execute_result"
    }
   ],
   "source": [
    "df.shape"
   ]
  },
  {
   "cell_type": "code",
   "execution_count": null,
   "metadata": {},
   "outputs": [],
   "source": []
  }
 ],
 "metadata": {
  "kernelspec": {
   "display_name": "Python 3",
   "language": "python",
   "name": "python3"
  },
  "language_info": {
   "codemirror_mode": {
    "name": "ipython",
    "version": 3
   },
   "file_extension": ".py",
   "mimetype": "text/x-python",
   "name": "python",
   "nbconvert_exporter": "python",
   "pygments_lexer": "ipython3",
   "version": "3.7.4"
  }
 },
 "nbformat": 4,
 "nbformat_minor": 2
}
